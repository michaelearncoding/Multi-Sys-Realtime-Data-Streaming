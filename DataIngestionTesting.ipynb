{
 "cells": [
  {
   "cell_type": "code",
   "execution_count": 1,
   "id": "32236131-3f4c-455e-bfd6-3df2e19f8de7",
   "metadata": {},
   "outputs": [],
   "source": [
    "\n",
    "import requests"
   ]
  },
  {
   "cell_type": "code",
   "execution_count": 3,
   "id": "a3e90683-88e3-4364-9355-b1b0a60a7999",
   "metadata": {},
   "outputs": [],
   "source": [
    "res = requests.get(\"https://randomuser.me/api/\")\n",
    "res = res.json()\n",
    "res = res['results'][0]"
   ]
  },
  {
   "cell_type": "code",
   "execution_count": 5,
   "id": "9289cbba-3b2a-4036-ae24-bddc72d6cb0d",
   "metadata": {},
   "outputs": [
    {
     "data": {
      "text/plain": [
       "{'gender': 'male',\n",
       " 'name': {'title': 'Mr', 'first': 'Carter', 'last': 'Harcourt'},\n",
       " 'location': {'street': {'number': 8045, 'name': 'Pierre Ave'},\n",
       "  'city': 'Lloydminster',\n",
       "  'state': 'Nunavut',\n",
       "  'country': 'Canada',\n",
       "  'postcode': 'Z2K 6P2',\n",
       "  'coordinates': {'latitude': '-69.0513', 'longitude': '-169.5107'},\n",
       "  'timezone': {'offset': '-1:00',\n",
       "   'description': 'Azores, Cape Verde Islands'}},\n",
       " 'email': 'carter.harcourt@example.com',\n",
       " 'login': {'uuid': '366cb893-5368-4a30-9ed0-4ab91e288c40',\n",
       "  'username': 'ticklishbear352',\n",
       "  'password': 'tigers',\n",
       "  'salt': 'umAHOlbK',\n",
       "  'md5': '2823b34f9195e8c953ff3bcf11ddc393',\n",
       "  'sha1': '82a320d4959d44059781e71c3be39afcb4a257b4',\n",
       "  'sha256': '35ef71640862c784addbe0639935cbe8fe2ac606a92713d15b772c27e7d07bc9'},\n",
       " 'dob': {'date': '1981-02-18T06:52:18.713Z', 'age': 43},\n",
       " 'registered': {'date': '2016-11-27T18:21:14.438Z', 'age': 8},\n",
       " 'phone': 'D81 N57-3094',\n",
       " 'cell': 'O46 F78-1285',\n",
       " 'id': {'name': 'SIN', 'value': '930602685'},\n",
       " 'picture': {'large': 'https://randomuser.me/api/portraits/men/57.jpg',\n",
       "  'medium': 'https://randomuser.me/api/portraits/med/men/57.jpg',\n",
       "  'thumbnail': 'https://randomuser.me/api/portraits/thumb/men/57.jpg'},\n",
       " 'nat': 'CA'}"
      ]
     },
     "execution_count": 5,
     "metadata": {},
     "output_type": "execute_result"
    }
   ],
   "source": [
    "res"
   ]
  },
  {
   "cell_type": "code",
   "execution_count": null,
   "id": "35f6f318-1107-4a63-ad0d-56edcf934e61",
   "metadata": {},
   "outputs": [],
   "source": []
  }
 ],
 "metadata": {
  "kernelspec": {
   "display_name": "Python (Realtime-Data-Streaming)",
   "language": "python",
   "name": "realtime-data-streaming"
  },
  "language_info": {
   "codemirror_mode": {
    "name": "ipython",
    "version": 3
   },
   "file_extension": ".py",
   "mimetype": "text/x-python",
   "name": "python",
   "nbconvert_exporter": "python",
   "pygments_lexer": "ipython3",
   "version": "3.12.7"
  }
 },
 "nbformat": 4,
 "nbformat_minor": 5
}
